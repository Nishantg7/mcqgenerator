{
 "cells": [
  {
   "cell_type": "code",
   "execution_count": 221,
   "metadata": {},
   "outputs": [],
   "source": [
    "import os\n",
    "import json\n",
    "import pandas as pd\n",
    "\n"
   ]
  },
  {
   "cell_type": "code",
   "execution_count": 222,
   "metadata": {},
   "outputs": [],
   "source": [
    "\n",
    "from langchain_core.prompts import ChatPromptTemplate\n",
    "from langchain_groq import ChatGroq\n"
   ]
  },
  {
   "cell_type": "code",
   "execution_count": 223,
   "metadata": {},
   "outputs": [],
   "source": [
    "KEY=os.getenv(\"GROQ_API_KEY\")\n"
   ]
  },
  {
   "cell_type": "code",
   "execution_count": 224,
   "metadata": {},
   "outputs": [
    {
     "data": {
      "text/plain": [
       "True"
      ]
     },
     "execution_count": 224,
     "metadata": {},
     "output_type": "execute_result"
    }
   ],
   "source": [
    "from dotenv import load_dotenv\n",
    "\n",
    "load_dotenv()  # take environment variables from .env."
   ]
  },
  {
   "cell_type": "code",
   "execution_count": 225,
   "metadata": {},
   "outputs": [],
   "source": [
    "llm=ChatGroq(temperature=0.5, groq_api_key=KEY, model_name=\"llama3-70b-8192\")"
   ]
  },
  {
   "cell_type": "code",
   "execution_count": 226,
   "metadata": {},
   "outputs": [
    {
     "data": {
      "text/plain": [
       "ChatGroq(client=<groq.resources.chat.completions.Completions object at 0x0000025774BFD710>, async_client=<groq.resources.chat.completions.AsyncCompletions object at 0x0000025774059550>, model_name='llama3-70b-8192', temperature=0.5, groq_api_key=SecretStr('**********'))"
      ]
     },
     "execution_count": 226,
     "metadata": {},
     "output_type": "execute_result"
    }
   ],
   "source": [
    "llm"
   ]
  },
  {
   "cell_type": "markdown",
   "metadata": {},
   "source": []
  },
  {
   "cell_type": "code",
   "execution_count": 227,
   "metadata": {},
   "outputs": [],
   "source": [
    "from langchain.prompts import PromptTemplate\n",
    "from langchain.chains import LLMChain\n",
    "from langchain.chains import SequentialChain\n",
    "import PyPDF2\n"
   ]
  },
  {
   "cell_type": "code",
   "execution_count": 228,
   "metadata": {},
   "outputs": [],
   "source": [
    "RESPONSE_JSON = {\n",
    "    \"1\": {\n",
    "        \"mcq\": \"multiple choice question\",\n",
    "        \"options\": {\n",
    "            \"a\": \"choice here\",\n",
    "            \"b\": \"choice here\",\n",
    "            \"c\": \"choice here\",\n",
    "            \"d\": \"choice here\",\n",
    "        },\n",
    "        \"correct\": \"correct answer\",\n",
    "    },\n",
    "    \"2\": {\n",
    "        \"mcq\": \"multiple choice question\",\n",
    "        \"options\": {\n",
    "            \"a\": \"choice here\",\n",
    "            \"b\": \"choice here\",\n",
    "            \"c\": \"choice here\",\n",
    "            \"d\": \"choice here\",\n",
    "        },\n",
    "        \"correct\": \"correct answer\",\n",
    "    },\n",
    "    \"3\": {\n",
    "        \"mcq\": \"multiple choice question\",\n",
    "        \"options\": {\n",
    "            \"a\": \"choice here\",\n",
    "            \"b\": \"choice here\",\n",
    "            \"c\": \"choice here\",\n",
    "            \"d\": \"choice here\",\n",
    "        },\n",
    "        \"correct\": \"correct answer\",\n",
    "    },\n",
    "}\n"
   ]
  },
  {
   "cell_type": "code",
   "execution_count": 229,
   "metadata": {},
   "outputs": [],
   "source": [
    "TEMPLATE=\"\"\"\n",
    "Text:{text}\n",
    "You are an expert MCQ maker. Given the above text, it is your job to \\\n",
    "create a quiz  of {number} multiple choice questions for {subject} students in {tone} tone. \n",
    "Make sure the questions are not repeated and check all the questions to be conforming the text as well.\n",
    "Make sure to format your response like  RESPONSE_JSON below  and use it as a guide. \\\n",
    "Ensure to make {number} MCQs\n",
    "### RESPONSE_JSON\n",
    "{response_json}\n",
    "Do not provide any extra text such as 'Here are the 5 multiple choice questions:'\n",
    "\"\"\""
   ]
  },
  {
   "cell_type": "code",
   "execution_count": 230,
   "metadata": {},
   "outputs": [],
   "source": [
    "quiz_generation_prompt = PromptTemplate(\n",
    "    input_variables=[\"text\", \"number\", \"subject\", \"tone\", \"response_json\"],\n",
    "    template=TEMPLATE\n",
    "    )\n"
   ]
  },
  {
   "cell_type": "code",
   "execution_count": 231,
   "metadata": {},
   "outputs": [],
   "source": [
    "quiz_chain=LLMChain(llm=llm, prompt=quiz_generation_prompt, output_key=\"quiz\", verbose=True)"
   ]
  },
  {
   "cell_type": "code",
   "execution_count": 232,
   "metadata": {},
   "outputs": [],
   "source": [
    "TEMPLATE2=\"\"\"\n",
    "You are an expert english grammarian and writer. Given a Multiple Choice Quiz for {subject} students.\\\n",
    "You need to evaluate the complexity of the question and give a complete analysis of the quiz. Only use at max 50 words for complexity analysis. \n",
    "if the quiz is not at per with the cognitive and analytical abilities of the students,\\\n",
    "update the quiz questions which needs to be changed and change the tone such that it perfectly fits the student abilities\n",
    "Quiz_MCQs:\n",
    "{quiz}\n",
    "Check from an expert English Writer of the above quiz:\n",
    "\"\"\""
   ]
  },
  {
   "cell_type": "code",
   "execution_count": 233,
   "metadata": {},
   "outputs": [],
   "source": [
    "quiz_evaluation_prompt=PromptTemplate(input_variables=[\"subject\", \"quiz\"], template=TEMPLATE)"
   ]
  },
  {
   "cell_type": "code",
   "execution_count": 234,
   "metadata": {},
   "outputs": [],
   "source": [
    "review_chain=LLMChain(llm=llm, prompt=quiz_evaluation_prompt, output_key=\"review\", verbose=True)"
   ]
  },
  {
   "cell_type": "code",
   "execution_count": 235,
   "metadata": {},
   "outputs": [],
   "source": [
    "generate_evaluate_chain=SequentialChain(chains=[quiz_chain, review_chain], input_variables=[\"text\", \"number\", \"subject\", \"tone\", \"response_json\"],\n",
    "                                        output_variables=[\"quiz\", \"review\"], verbose=True,)"
   ]
  },
  {
   "cell_type": "code",
   "execution_count": 236,
   "metadata": {},
   "outputs": [],
   "source": [
    "file_path=r\"D:/CODING/GEN AI/mcqgenerator/data.txt\""
   ]
  },
  {
   "cell_type": "code",
   "execution_count": 237,
   "metadata": {},
   "outputs": [
    {
     "data": {
      "text/plain": [
       "'D:/CODING/GEN AI/mcqgenerator/data.txt'"
      ]
     },
     "execution_count": 237,
     "metadata": {},
     "output_type": "execute_result"
    }
   ],
   "source": [
    "file_path"
   ]
  },
  {
   "cell_type": "code",
   "execution_count": 238,
   "metadata": {},
   "outputs": [],
   "source": [
    "with open(file_path, 'r') as file:\n",
    "    TEXT = file.read()"
   ]
  },
  {
   "cell_type": "code",
   "execution_count": 239,
   "metadata": {},
   "outputs": [
    {
     "name": "stdout",
     "output_type": "stream",
     "text": [
      "Machine learning (ML) is a field of study in artificial intelligence concerned with the development and study of statistical algorithms that can learn from data and generalize to unseen data and thus perform tasks without explicit instructions.[1] Recently, artificial neural networks have been able to surpass many previous approaches in performance.[2]\n",
      "\n",
      "ML finds application in many fields, including natural language processing, computer vision, speech recognition, email filtering, agriculture, and medicine.[3][4] When applied to business problems, it is known under the name predictive analytics. Although not all machine learning is statistically based, computational statistics is an important source of the field's methods.\n",
      "\n",
      "The mathematical foundations of ML are provided by mathematical optimization (mathematical programming) methods. Data mining is a related (parallel) field of study, focusing on exploratory data analysis (EDA) through unsupervised learning.[6][7]\n",
      "\n",
      "From a theoretical viewpoint, probably approximately correct (PAC) learning provides a framework for describing machine learning.\n"
     ]
    }
   ],
   "source": [
    "print(TEXT)"
   ]
  },
  {
   "cell_type": "code",
   "execution_count": 240,
   "metadata": {},
   "outputs": [
    {
     "data": {
      "text/plain": [
       "'{\"1\": {\"mcq\": \"multiple choice question\", \"options\": {\"a\": \"choice here\", \"b\": \"choice here\", \"c\": \"choice here\", \"d\": \"choice here\"}, \"correct\": \"correct answer\"}, \"2\": {\"mcq\": \"multiple choice question\", \"options\": {\"a\": \"choice here\", \"b\": \"choice here\", \"c\": \"choice here\", \"d\": \"choice here\"}, \"correct\": \"correct answer\"}, \"3\": {\"mcq\": \"multiple choice question\", \"options\": {\"a\": \"choice here\", \"b\": \"choice here\", \"c\": \"choice here\", \"d\": \"choice here\"}, \"correct\": \"correct answer\"}}'"
      ]
     },
     "execution_count": 240,
     "metadata": {},
     "output_type": "execute_result"
    }
   ],
   "source": [
    "# Serialize the Python dictionary into a JSON-formatted string\n",
    "json.dumps(RESPONSE_JSON)"
   ]
  },
  {
   "cell_type": "code",
   "execution_count": 241,
   "metadata": {},
   "outputs": [],
   "source": [
    "NUMBER=10\n",
    "SUBJECT=\"Machine Learning\"\n",
    "TONE=\"complex\"\n"
   ]
  },
  {
   "cell_type": "code",
   "execution_count": 242,
   "metadata": {},
   "outputs": [
    {
     "name": "stdout",
     "output_type": "stream",
     "text": [
      "\n",
      "\n",
      "\u001b[1m> Entering new SequentialChain chain...\u001b[0m\n",
      "\n",
      "\n",
      "\u001b[1m> Entering new LLMChain chain...\u001b[0m\n",
      "Prompt after formatting:\n",
      "\u001b[32;1m\u001b[1;3m\n",
      "Text:Machine learning (ML) is a field of study in artificial intelligence concerned with the development and study of statistical algorithms that can learn from data and generalize to unseen data and thus perform tasks without explicit instructions.[1] Recently, artificial neural networks have been able to surpass many previous approaches in performance.[2]\n",
      "\n",
      "ML finds application in many fields, including natural language processing, computer vision, speech recognition, email filtering, agriculture, and medicine.[3][4] When applied to business problems, it is known under the name predictive analytics. Although not all machine learning is statistically based, computational statistics is an important source of the field's methods.\n",
      "\n",
      "The mathematical foundations of ML are provided by mathematical optimization (mathematical programming) methods. Data mining is a related (parallel) field of study, focusing on exploratory data analysis (EDA) through unsupervised learning.[6][7]\n",
      "\n",
      "From a theoretical viewpoint, probably approximately correct (PAC) learning provides a framework for describing machine learning.\n",
      "You are an expert MCQ maker. Given the above text, it is your job to create a quiz  of 10 multiple choice questions for Machine Learning students in complex tone. \n",
      "Make sure the questions are not repeated and check all the questions to be conforming the text as well.\n",
      "Make sure to format your response like  RESPONSE_JSON below  and use it as a guide. Ensure to make 10 MCQs\n",
      "### RESPONSE_JSON\n",
      "{\"1\": {\"mcq\": \"multiple choice question\", \"options\": {\"a\": \"choice here\", \"b\": \"choice here\", \"c\": \"choice here\", \"d\": \"choice here\"}, \"correct\": \"correct answer\"}, \"2\": {\"mcq\": \"multiple choice question\", \"options\": {\"a\": \"choice here\", \"b\": \"choice here\", \"c\": \"choice here\", \"d\": \"choice here\"}, \"correct\": \"correct answer\"}, \"3\": {\"mcq\": \"multiple choice question\", \"options\": {\"a\": \"choice here\", \"b\": \"choice here\", \"c\": \"choice here\", \"d\": \"choice here\"}, \"correct\": \"correct answer\"}}\n",
      "Do not provide any extra text such as 'Here are the 5 multiple choice questions:'\n",
      "\u001b[0m\n",
      "\n",
      "\u001b[1m> Finished chain.\u001b[0m\n",
      "\n",
      "\n",
      "\u001b[1m> Entering new LLMChain chain...\u001b[0m\n",
      "Prompt after formatting:\n",
      "\u001b[32;1m\u001b[1;3m\n",
      "Text:Machine learning (ML) is a field of study in artificial intelligence concerned with the development and study of statistical algorithms that can learn from data and generalize to unseen data and thus perform tasks without explicit instructions.[1] Recently, artificial neural networks have been able to surpass many previous approaches in performance.[2]\n",
      "\n",
      "ML finds application in many fields, including natural language processing, computer vision, speech recognition, email filtering, agriculture, and medicine.[3][4] When applied to business problems, it is known under the name predictive analytics. Although not all machine learning is statistically based, computational statistics is an important source of the field's methods.\n",
      "\n",
      "The mathematical foundations of ML are provided by mathematical optimization (mathematical programming) methods. Data mining is a related (parallel) field of study, focusing on exploratory data analysis (EDA) through unsupervised learning.[6][7]\n",
      "\n",
      "From a theoretical viewpoint, probably approximately correct (PAC) learning provides a framework for describing machine learning.\n",
      "You are an expert MCQ maker. Given the above text, it is your job to create a quiz  of 10 multiple choice questions for Machine Learning students in complex tone. \n",
      "Make sure the questions are not repeated and check all the questions to be conforming the text as well.\n",
      "Make sure to format your response like  RESPONSE_JSON below  and use it as a guide. Ensure to make 10 MCQs\n",
      "### RESPONSE_JSON\n",
      "{\"1\": {\"mcq\": \"multiple choice question\", \"options\": {\"a\": \"choice here\", \"b\": \"choice here\", \"c\": \"choice here\", \"d\": \"choice here\"}, \"correct\": \"correct answer\"}, \"2\": {\"mcq\": \"multiple choice question\", \"options\": {\"a\": \"choice here\", \"b\": \"choice here\", \"c\": \"choice here\", \"d\": \"choice here\"}, \"correct\": \"correct answer\"}, \"3\": {\"mcq\": \"multiple choice question\", \"options\": {\"a\": \"choice here\", \"b\": \"choice here\", \"c\": \"choice here\", \"d\": \"choice here\"}, \"correct\": \"correct answer\"}}\n",
      "Do not provide any extra text such as 'Here are the 5 multiple choice questions:'\n",
      "\u001b[0m\n",
      "\n",
      "\u001b[1m> Finished chain.\u001b[0m\n",
      "\n",
      "\u001b[1m> Finished chain.\u001b[0m\n"
     ]
    }
   ],
   "source": [
    "response=generate_evaluate_chain(\n",
    "        {\n",
    "            \"text\": TEXT,\n",
    "            \"number\": NUMBER,\n",
    "            \"subject\":SUBJECT,\n",
    "            \"tone\": TONE,\n",
    "            \"response_json\": json.dumps(RESPONSE_JSON)\n",
    "        }\n",
    "        )"
   ]
  },
  {
   "cell_type": "code",
   "execution_count": 243,
   "metadata": {},
   "outputs": [
    {
     "data": {
      "text/plain": [
       "{'text': \"Machine learning (ML) is a field of study in artificial intelligence concerned with the development and study of statistical algorithms that can learn from data and generalize to unseen data and thus perform tasks without explicit instructions.[1] Recently, artificial neural networks have been able to surpass many previous approaches in performance.[2]\\n\\nML finds application in many fields, including natural language processing, computer vision, speech recognition, email filtering, agriculture, and medicine.[3][4] When applied to business problems, it is known under the name predictive analytics. Although not all machine learning is statistically based, computational statistics is an important source of the field's methods.\\n\\nThe mathematical foundations of ML are provided by mathematical optimization (mathematical programming) methods. Data mining is a related (parallel) field of study, focusing on exploratory data analysis (EDA) through unsupervised learning.[6][7]\\n\\nFrom a theoretical viewpoint, probably approximately correct (PAC) learning provides a framework for describing machine learning.\",\n",
       " 'number': 10,\n",
       " 'subject': 'Machine Learning',\n",
       " 'tone': 'complex',\n",
       " 'response_json': '{\"1\": {\"mcq\": \"multiple choice question\", \"options\": {\"a\": \"choice here\", \"b\": \"choice here\", \"c\": \"choice here\", \"d\": \"choice here\"}, \"correct\": \"correct answer\"}, \"2\": {\"mcq\": \"multiple choice question\", \"options\": {\"a\": \"choice here\", \"b\": \"choice here\", \"c\": \"choice here\", \"d\": \"choice here\"}, \"correct\": \"correct answer\"}, \"3\": {\"mcq\": \"multiple choice question\", \"options\": {\"a\": \"choice here\", \"b\": \"choice here\", \"c\": \"choice here\", \"d\": \"choice here\"}, \"correct\": \"correct answer\"}}',\n",
       " 'quiz': '{\"1\": {\"mcq\": \"Machine learning is a field of study in artificial intelligence concerned with the development and study of which type of algorithms?\", \"options\": {\"a\": \"Statistical algorithms\", \"b\": \"Deterministic algorithms\", \"c\": \"Heuristic algorithms\", \"d\": \"Dynamic algorithms\"}, \"correct\": \"a\"}, \\n\"2\": {\"mcq\": \"Which type of neural networks have been able to surpass many previous approaches in performance?\", \"options\": {\"a\": \"Artificial neural networks\", \"b\": \"Biological neural networks\", \"c\": \"Convolutional neural networks\", \"d\": \"Recurrent neural networks\"}, \"correct\": \"a\"}, \\n\"3\": {\"mcq\": \"What is the term used to describe the application of machine learning to business problems?\", \"options\": {\"a\": \"Predictive modeling\", \"b\": \"Predictive analytics\", \"c\": \"Business intelligence\", \"d\": \"Data mining\"}, \"correct\": \"b\"}, \\n\"4\": {\"mcq\": \"Which field of study focuses on exploratory data analysis through unsupervised learning?\", \"options\": {\"a\": \"Machine learning\", \"b\": \"Data mining\", \"c\": \"Computational statistics\", \"d\": \"Mathematical optimization\"}, \"correct\": \"b\"}, \\n\"5\": {\"mcq\": \"What provides the mathematical foundations of machine learning?\", \"options\": {\"a\": \"Mathematical optimization methods\", \"b\": \"Computational statistics\", \"c\": \"Data mining\", \"d\": \"Artificial intelligence\"}, \"correct\": \"a\"}, \\n\"6\": {\"mcq\": \"What is the term used to describe the framework for describing machine learning from a theoretical viewpoint?\", \"options\": {\"a\": \"Probably approximately correct (PAC) learning\", \"b\": \"Machine learning framework\", \"c\": \"Artificial intelligence model\", \"d\": \"Neural network architecture\"}, \"correct\": \"a\"}, \\n\"7\": {\"mcq\": \"Which of the following is NOT an application of machine learning?\", \"options\": {\"a\": \"Natural language processing\", \"b\": \"Computer vision\", \"c\": \"Agriculture\", \"d\": \"History\"}, \"correct\": \"d\"}, \\n\"8\": {\"mcq\": \"What is the term used to describe the process of learning from data and generalizing to unseen data?\", \"options\": {\"a\": \"Supervised learning\", \"b\": \"Unsupervised learning\", \"c\": \"Learning from data\", \"d\": \"Generalization\"}, \"correct\": \"c\"}, \\n\"9\": {\"mcq\": \"Machine learning finds application in which of the following fields?\", \"options\": {\"a\": \"Medicine and agriculture\", \"b\": \"Computer vision and natural language processing\", \"c\": \"Speech recognition and email filtering\", \"d\": \"All of the above\"}, \"correct\": \"d\"}, \\n\"10\": {\"mcq\": \"What is the term used to describe the type of learning where the machine learns without explicit instructions?\", \"options\": {\"a\": \"Supervised learning\", \"b\": \"Unsupervised learning\", \"c\": \"Semi-supervised learning\", \"d\": \"Learning from experience\"}, \"correct\": \"b\"}}',\n",
       " 'review': '{\"1\": {\"mcq\": \"What is the primary concern of the field of machine learning?\", \"options\": {\"a\": \"Development of explicit instructions\", \"b\": \"Study of statistical algorithms that can learn from data\", \"c\": \"Development of artificial neural networks\", \"d\": \"Exploratory data analysis\"}, \"correct\": \"b\"}, \\n\"2\": {\"mcq\": \"Which type of networks have been able to surpass many previous approaches in performance?\", \"options\": {\"a\": \"Artificial neural networks\", \"b\": \"Linear regression models\", \"c\": \"Decision trees\", \"d\": \"Support vector machines\"}, \"correct\": \"a\"}, \\n\"3\": {\"mcq\": \"What is the term used to describe the application of machine learning to business problems?\", \"options\": {\"a\": \"Predictive modeling\", \"b\": \"Predictive analytics\", \"c\": \"Data mining\", \"d\": \"Statistical analysis\"}, \"correct\": \"b\"}, \\n\"4\": {\"mcq\": \"What is the field of study that focuses on exploratory data analysis through unsupervised learning?\", \"options\": {\"a\": \"Machine learning\", \"b\": \"Data mining\", \"c\": \"Computer vision\", \"d\": \"Natural language processing\"}, \"correct\": \"b\"}, \\n\"5\": {\"mcq\": \"What provides the mathematical foundations of machine learning?\", \"options\": {\"a\": \"Mathematical optimization methods\", \"b\": \"Computational statistics\", \"c\": \"Statistical analysis\", \"d\": \"Artificial intelligence\"}, \"correct\": \"a\"}, \\n\"6\": {\"mcq\": \"What framework provides a theoretical viewpoint for describing machine learning?\", \"options\": {\"a\": \"Probably approximately correct (PAC) learning\", \"b\": \"Supervised learning\", \"c\": \"Unsupervised learning\", \"d\": \"Reinforcement learning\"}, \"correct\": \"a\"}, \\n\"7\": {\"mcq\": \"What is the term used to describe the ability of machine learning algorithms to perform tasks without explicit instructions?\", \"options\": {\"a\": \"Generalization\", \"b\": \"Supervised learning\", \"c\": \"Unsupervised learning\", \"d\": \"Reinforcement learning\"}, \"correct\": \"a\"}, \\n\"8\": {\"mcq\": \"Which of the following is NOT a field where machine learning finds application?\", \"options\": {\"a\": \"Natural language processing\", \"b\": \"Computer vision\", \"c\": \"Agriculture\", \"d\": \"History\"}, \"correct\": \"d\"}, \\n\"9\": {\"mcq\": \"What is the term used to describe the process of learning from data and generalizing to unseen data?\", \"options\": {\"a\": \"Supervised learning\", \"b\": \"Unsupervised learning\", \"c\": \"Reinforcement learning\", \"d\": \"Statistical learning\"}, \"correct\": \"d\"}, \\n\"10\": {\"mcq\": \"What is the field of study that is closely related to machine learning and focuses on exploratory data analysis?\", \"options\": {\"a\": \"Artificial intelligence\", \"b\": \"Data mining\", \"c\": \"Computer vision\", \"d\": \"Natural language processing\"}, \"correct\": \"b\"}}'}"
      ]
     },
     "execution_count": 243,
     "metadata": {},
     "output_type": "execute_result"
    }
   ],
   "source": [
    "response"
   ]
  },
  {
   "cell_type": "code",
   "execution_count": 244,
   "metadata": {},
   "outputs": [
    {
     "name": "stdout",
     "output_type": "stream",
     "text": [
      "{\"1\": {\"mcq\": \"Machine learning is a field of study in artificial intelligence concerned with the development and study of which type of algorithms?\", \"options\": {\"a\": \"Statistical algorithms\", \"b\": \"Deterministic algorithms\", \"c\": \"Heuristic algorithms\", \"d\": \"Dynamic algorithms\"}, \"correct\": \"a\"}, \n",
      "\"2\": {\"mcq\": \"Which type of neural networks have been able to surpass many previous approaches in performance?\", \"options\": {\"a\": \"Artificial neural networks\", \"b\": \"Biological neural networks\", \"c\": \"Convolutional neural networks\", \"d\": \"Recurrent neural networks\"}, \"correct\": \"a\"}, \n",
      "\"3\": {\"mcq\": \"What is the term used to describe the application of machine learning to business problems?\", \"options\": {\"a\": \"Predictive modeling\", \"b\": \"Predictive analytics\", \"c\": \"Business intelligence\", \"d\": \"Data mining\"}, \"correct\": \"b\"}, \n",
      "\"4\": {\"mcq\": \"Which field of study focuses on exploratory data analysis through unsupervised learning?\", \"options\": {\"a\": \"Machine learning\", \"b\": \"Data mining\", \"c\": \"Computational statistics\", \"d\": \"Mathematical optimization\"}, \"correct\": \"b\"}, \n",
      "\"5\": {\"mcq\": \"What provides the mathematical foundations of machine learning?\", \"options\": {\"a\": \"Mathematical optimization methods\", \"b\": \"Computational statistics\", \"c\": \"Data mining\", \"d\": \"Artificial intelligence\"}, \"correct\": \"a\"}, \n",
      "\"6\": {\"mcq\": \"What is the term used to describe the framework for describing machine learning from a theoretical viewpoint?\", \"options\": {\"a\": \"Probably approximately correct (PAC) learning\", \"b\": \"Machine learning framework\", \"c\": \"Artificial intelligence model\", \"d\": \"Neural network architecture\"}, \"correct\": \"a\"}, \n",
      "\"7\": {\"mcq\": \"Which of the following is NOT an application of machine learning?\", \"options\": {\"a\": \"Natural language processing\", \"b\": \"Computer vision\", \"c\": \"Agriculture\", \"d\": \"History\"}, \"correct\": \"d\"}, \n",
      "\"8\": {\"mcq\": \"What is the term used to describe the process of learning from data and generalizing to unseen data?\", \"options\": {\"a\": \"Supervised learning\", \"b\": \"Unsupervised learning\", \"c\": \"Learning from data\", \"d\": \"Generalization\"}, \"correct\": \"c\"}, \n",
      "\"9\": {\"mcq\": \"Machine learning finds application in which of the following fields?\", \"options\": {\"a\": \"Medicine and agriculture\", \"b\": \"Computer vision and natural language processing\", \"c\": \"Speech recognition and email filtering\", \"d\": \"All of the above\"}, \"correct\": \"d\"}, \n",
      "\"10\": {\"mcq\": \"What is the term used to describe the type of learning where the machine learns without explicit instructions?\", \"options\": {\"a\": \"Supervised learning\", \"b\": \"Unsupervised learning\", \"c\": \"Semi-supervised learning\", \"d\": \"Learning from experience\"}, \"correct\": \"b\"}}\n"
     ]
    }
   ],
   "source": [
    "quiz=response.get(\"quiz\")\n",
    "\n",
    "print(quiz)"
   ]
  },
  {
   "cell_type": "code",
   "execution_count": 245,
   "metadata": {},
   "outputs": [],
   "source": [
    "abc=json.loads(quiz)"
   ]
  },
  {
   "cell_type": "code",
   "execution_count": 246,
   "metadata": {},
   "outputs": [],
   "source": [
    "quiz_table_data = []\n",
    "for key, value in abc.items():\n",
    "    mcq = value[\"mcq\"]\n",
    "    options = \" | \".join(\n",
    "        [\n",
    "            f\"{option}: {option_value}\"\n",
    "            for option, option_value in value[\"options\"].items()\n",
    "            ]\n",
    "        )\n",
    "    correct = value[\"correct\"]\n",
    "    quiz_table_data.append({\"MCQ\": mcq, \"Choices\": options, \"Correct\": correct})"
   ]
  },
  {
   "cell_type": "code",
   "execution_count": 247,
   "metadata": {},
   "outputs": [
    {
     "data": {
      "text/plain": [
       "[{'MCQ': 'Machine learning is a field of study in artificial intelligence concerned with the development and study of which type of algorithms?',\n",
       "  'Choices': 'a: Statistical algorithms | b: Deterministic algorithms | c: Heuristic algorithms | d: Dynamic algorithms',\n",
       "  'Correct': 'a'},\n",
       " {'MCQ': 'Which type of neural networks have been able to surpass many previous approaches in performance?',\n",
       "  'Choices': 'a: Artificial neural networks | b: Biological neural networks | c: Convolutional neural networks | d: Recurrent neural networks',\n",
       "  'Correct': 'a'},\n",
       " {'MCQ': 'What is the term used to describe the application of machine learning to business problems?',\n",
       "  'Choices': 'a: Predictive modeling | b: Predictive analytics | c: Business intelligence | d: Data mining',\n",
       "  'Correct': 'b'},\n",
       " {'MCQ': 'Which field of study focuses on exploratory data analysis through unsupervised learning?',\n",
       "  'Choices': 'a: Machine learning | b: Data mining | c: Computational statistics | d: Mathematical optimization',\n",
       "  'Correct': 'b'},\n",
       " {'MCQ': 'What provides the mathematical foundations of machine learning?',\n",
       "  'Choices': 'a: Mathematical optimization methods | b: Computational statistics | c: Data mining | d: Artificial intelligence',\n",
       "  'Correct': 'a'},\n",
       " {'MCQ': 'What is the term used to describe the framework for describing machine learning from a theoretical viewpoint?',\n",
       "  'Choices': 'a: Probably approximately correct (PAC) learning | b: Machine learning framework | c: Artificial intelligence model | d: Neural network architecture',\n",
       "  'Correct': 'a'},\n",
       " {'MCQ': 'Which of the following is NOT an application of machine learning?',\n",
       "  'Choices': 'a: Natural language processing | b: Computer vision | c: Agriculture | d: History',\n",
       "  'Correct': 'd'},\n",
       " {'MCQ': 'What is the term used to describe the process of learning from data and generalizing to unseen data?',\n",
       "  'Choices': 'a: Supervised learning | b: Unsupervised learning | c: Learning from data | d: Generalization',\n",
       "  'Correct': 'c'},\n",
       " {'MCQ': 'Machine learning finds application in which of the following fields?',\n",
       "  'Choices': 'a: Medicine and agriculture | b: Computer vision and natural language processing | c: Speech recognition and email filtering | d: All of the above',\n",
       "  'Correct': 'd'},\n",
       " {'MCQ': 'What is the term used to describe the type of learning where the machine learns without explicit instructions?',\n",
       "  'Choices': 'a: Supervised learning | b: Unsupervised learning | c: Semi-supervised learning | d: Learning from experience',\n",
       "  'Correct': 'b'}]"
      ]
     },
     "execution_count": 247,
     "metadata": {},
     "output_type": "execute_result"
    }
   ],
   "source": [
    "quiz_table_data"
   ]
  },
  {
   "cell_type": "code",
   "execution_count": 248,
   "metadata": {},
   "outputs": [],
   "source": [
    "quiz=pd.DataFrame(quiz_table_data)"
   ]
  },
  {
   "cell_type": "code",
   "execution_count": 249,
   "metadata": {},
   "outputs": [],
   "source": [
    "quiz.to_csv(\"machinelearning.csv\",index=False)"
   ]
  },
  {
   "cell_type": "code",
   "execution_count": 250,
   "metadata": {},
   "outputs": [
    {
     "data": {
      "text/plain": [
       "'08_19_2024_04_56_55'"
      ]
     },
     "execution_count": 250,
     "metadata": {},
     "output_type": "execute_result"
    }
   ],
   "source": [
    "from datetime import datetime\n",
    "datetime.now().strftime('%m_%d_%Y_%H_%M_%S')"
   ]
  },
  {
   "cell_type": "code",
   "execution_count": null,
   "metadata": {},
   "outputs": [],
   "source": []
  }
 ],
 "metadata": {
  "kernelspec": {
   "display_name": "Python 3",
   "language": "python",
   "name": "python3"
  },
  "language_info": {
   "codemirror_mode": {
    "name": "ipython",
    "version": 3
   },
   "file_extension": ".py",
   "mimetype": "text/x-python",
   "name": "python",
   "nbconvert_exporter": "python",
   "pygments_lexer": "ipython3",
   "version": "3.11.9"
  }
 },
 "nbformat": 4,
 "nbformat_minor": 2
}
